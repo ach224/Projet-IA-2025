{
  "nbformat": 4,
  "nbformat_minor": 0,
  "metadata": {
    "colab": {
      "provenance": []
    },
    "kernelspec": {
      "name": "python3",
      "display_name": "Python 3"
    },
    "language_info": {
      "name": "python"
    }
  },
  "cells": [
    {
      "cell_type": "markdown",
      "source": [
        "# PROJET INTELLIGENCE ARTICIFIELLE\n",
        "\n",
        "Réalisé par Margaux Dupré, Laila Maud Delamart et Aïcha Souaré\n",
        "\n",
        "Date de réalisation : 11 mai 2025"
      ],
      "metadata": {
        "id": "ChTHwLewwQLk"
      }
    },
    {
      "cell_type": "code",
      "execution_count": null,
      "metadata": {
        "id": "bT4Dcdwsvzwl"
      },
      "outputs": [],
      "source": []
    }
  ]
}